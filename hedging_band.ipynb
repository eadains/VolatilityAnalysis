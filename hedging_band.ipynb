{
 "cells": [
  {
   "cell_type": "code",
   "execution_count": 101,
   "metadata": {
    "collapsed": true
   },
   "outputs": [],
   "source": [
    "import numpy as np\n",
    "import matplotlib.pyplot as plt\n",
    "from py_vollib.black_scholes import black_scholes as opt\n",
    "%matplotlib inline\n",
    "plt.rcParams['figure.figsize'] = (16, 10)"
   ]
  },
  {
   "cell_type": "code",
   "execution_count": 81,
   "metadata": {
    "collapsed": true
   },
   "outputs": [],
   "source": [
    "delta = .5\n",
    "gamma = .05\n",
    "trans = .005\n",
    "risk = .25\n",
    "days = 30\n",
    "rate = .01\n",
    "price = 100\n",
    "sigma = 0.1"
   ]
  },
  {
   "cell_type": "code",
   "execution_count": 54,
   "metadata": {},
   "outputs": [],
   "source": [
    "def calc_band(price, strike, rate, days, sigma, side):\n",
    "    if side == 'C':\n",
    "        option = opt('c', price, strike, days/365, rate, sigma)\n",
    "    elif side == 'P':\n",
    "        option = opt('p', price, strike, days/365, rate, sigma)\n",
    "    \n",
    "    \n",
    "    \n",
    "    \n",
    "    \n",
    "    h0 = trans / (risk * price * np.square(sigma) * days)\n",
    "    h1 = 1.12 * np.power(trans,0.31) * np.power(days,0.05) * np.power(np.exp(-rate * days) / sigma,0.25) * np.power(np.abs(gamma) / risk,0.5)\n",
    "    k = -5.76 * (np.power(trans,0.78) / np.power(days,0.02)) * np.power(np.exp(-rate * days) / sigma,0.25) * np.power(risk * np.square(price) * np.abs(gamma),0.15)\n",
    "    mod_sigma = np.square(sigma) * (1 - k)\n",
    "    result_pos = delta + (h1 + h0)\n",
    "    result_neg = delta - (h1 + h0)"
   ]
  },
  {
   "cell_type": "code",
   "execution_count": 55,
   "metadata": {},
   "outputs": [],
   "source": [
    "delta_test = [0.1, 0.2, 0.3, 0.4, 0.5, 0.6, 0.7, 0.8, 0.9]"
   ]
  },
  {
   "cell_type": "code",
   "execution_count": 56,
   "metadata": {},
   "outputs": [
    {
     "data": {
      "text/plain": [
       "0.34973990285483958"
      ]
     },
     "execution_count": 56,
     "metadata": {},
     "output_type": "execute_result"
    }
   ],
   "source": [
    "result_neg"
   ]
  },
  {
   "cell_type": "code",
   "execution_count": 57,
   "metadata": {},
   "outputs": [
    {
     "data": {
      "text/plain": [
       "0.65026009714516042"
      ]
     },
     "execution_count": 57,
     "metadata": {},
     "output_type": "execute_result"
    }
   ],
   "source": [
    "result_pos"
   ]
  },
  {
   "cell_type": "code",
   "execution_count": 106,
   "metadata": {},
   "outputs": [],
   "source": [
    "option = opt('c', 100, 100, 30/365, .01, .2)"
   ]
  },
  {
   "cell_type": "code",
   "execution_count": 107,
   "metadata": {},
   "outputs": [
    {
     "data": {
      "text/plain": [
       "2.3275249119277066"
      ]
     },
     "execution_count": 107,
     "metadata": {},
     "output_type": "execute_result"
    }
   ],
   "source": [
    "option"
   ]
  },
  {
   "cell_type": "code",
   "execution_count": null,
   "metadata": {
    "collapsed": true
   },
   "outputs": [],
   "source": []
  }
 ],
 "metadata": {
  "kernelspec": {
   "display_name": "Python 3",
   "language": "python",
   "name": "python3"
  },
  "language_info": {
   "codemirror_mode": {
    "name": "ipython",
    "version": 3
   },
   "file_extension": ".py",
   "mimetype": "text/x-python",
   "name": "python",
   "nbconvert_exporter": "python",
   "pygments_lexer": "ipython3",
   "version": "3.6.2"
  }
 },
 "nbformat": 4,
 "nbformat_minor": 2
}
