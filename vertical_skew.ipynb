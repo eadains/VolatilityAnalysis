{
 "cells": [
  {
   "cell_type": "code",
   "execution_count": 123,
   "metadata": {
    "collapsed": true
   },
   "outputs": [],
   "source": [
    "import pandas as pd\n",
    "import sqlalchemy as sql\n",
    "import matplotlib.pyplot as plt\n",
    "import numpy as np\n",
    "import statsmodels.formula.api as sm\n",
    "import datetime\n",
    "%matplotlib inline\n",
    "plt.rcParams['figure.figsize'] = (16, 10)"
   ]
  },
  {
   "cell_type": "code",
   "execution_count": 124,
   "metadata": {
    "collapsed": true
   },
   "outputs": [],
   "source": [
    "symbol = \"SPXW\""
   ]
  },
  {
   "cell_type": "code",
   "execution_count": 147,
   "metadata": {
    "collapsed": true
   },
   "outputs": [],
   "source": [
    "engine = sql.create_engine(\"postgresql://postgres@localhost/optiondata\")\n",
    "data = pd.read_sql(\"SELECT * FROM vertical_skew WHERE symbol='{0}'\".format(symbol), engine)"
   ]
  },
  {
   "cell_type": "code",
   "execution_count": 148,
   "metadata": {
    "collapsed": true
   },
   "outputs": [],
   "source": [
    "# Adjusts delta to be continuous. Shifts 50 delta contracts to zero. As a by-product causes puts to be positive delta\n",
    "# and calls to be negative delta.\n",
    "def adjust_delta(x):\n",
    "    if x['delta'] < 0:\n",
    "        return x['delta'] + 0.50\n",
    "    elif x['delta'] > 0:\n",
    "        return x['delta'] - 0.50\n",
    "    \n",
    "data['delta'] = data.apply(adjust_delta, axis=1)"
   ]
  },
  {
   "cell_type": "code",
   "execution_count": null,
   "metadata": {
    "collapsed": true
   },
   "outputs": [],
   "source": []
  }
 ],
 "metadata": {
  "kernelspec": {
   "display_name": "Python 3",
   "language": "python",
   "name": "python3"
  },
  "language_info": {
   "codemirror_mode": {
    "name": "ipython",
    "version": 3
   },
   "file_extension": ".py",
   "mimetype": "text/x-python",
   "name": "python",
   "nbconvert_exporter": "python",
   "pygments_lexer": "ipython3",
   "version": "3.6.2"
  }
 },
 "nbformat": 4,
 "nbformat_minor": 2
}
