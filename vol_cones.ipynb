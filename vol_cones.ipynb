{
 "cells": [
  {
   "cell_type": "code",
   "execution_count": 3,
   "metadata": {},
   "outputs": [],
   "source": [
    "import pandas as pd\n",
    "import sqlalchemy as sql\n",
    "import numpy as np\n",
    "import math"
   ]
  },
  {
   "cell_type": "code",
   "execution_count": 4,
   "metadata": {
    "collapsed": true
   },
   "outputs": [],
   "source": [
    "# INDEX TICKER NOT OPTION TICKER. SPX not SPXW for instance\n",
    "symbol = \"RUT\"\n",
    "horizontal_skew_symbol = \"RUTW\""
   ]
  },
  {
   "cell_type": "code",
   "execution_count": 5,
   "metadata": {},
   "outputs": [],
   "source": [
    "engine = sql.create_engine(\"postgresql://postgres@localhost/optiondata\")\n",
    "# Select all daily data for given symbol\n",
    "data = pd.read_sql(\"SELECT * FROM underlying_data WHERE symbol='{0}' AND bar_length='1440' AND data_type='TRADES'\".format(symbol),\n",
    "                   engine)\n",
    "# Squared log returns\n",
    "returns = np.square(np.log(data['close']).diff())"
   ]
  },
  {
   "cell_type": "code",
   "execution_count": 9,
   "metadata": {
    "scrolled": true
   },
   "outputs": [
    {
     "data": {
      "text/plain": [
       "0               NaN\n",
       "1      2.268341e-05\n",
       "2      3.288093e-07\n",
       "3      9.499357e-05\n",
       "4      7.537426e-05\n",
       "5      7.874968e-06\n",
       "6      5.537764e-05\n",
       "7      4.183830e-09\n",
       "8      5.772347e-06\n",
       "9      5.042693e-05\n",
       "10     8.309655e-05\n",
       "11     4.947230e-06\n",
       "12     2.540853e-06\n",
       "13     3.102429e-05\n",
       "14     7.588934e-07\n",
       "15     2.428256e-05\n",
       "16     6.505163e-09\n",
       "17     9.316828e-05\n",
       "18     1.511530e-06\n",
       "19     3.693070e-05\n",
       "20     4.425559e-06\n",
       "21     9.989505e-04\n",
       "22     1.842010e-04\n",
       "23     3.701505e-04\n",
       "24     3.628046e-07\n",
       "25     1.602501e-04\n",
       "26     3.353676e-06\n",
       "27     3.973631e-05\n",
       "28     1.162392e-05\n",
       "29     1.825778e-04\n",
       "           ...     \n",
       "222    2.364799e-04\n",
       "223    4.075598e-05\n",
       "224    3.520198e-07\n",
       "225    6.345956e-05\n",
       "226    2.107809e-05\n",
       "227    1.878207e-04\n",
       "228    1.137476e-04\n",
       "229    2.716395e-05\n",
       "230    1.053956e-05\n",
       "231    6.305122e-05\n",
       "232    8.842723e-07\n",
       "233    4.886598e-06\n",
       "234    3.791862e-06\n",
       "235    7.770046e-06\n",
       "236    9.734399e-05\n",
       "237    1.645673e-07\n",
       "238    2.049509e-05\n",
       "239    2.376106e-06\n",
       "240    7.288946e-05\n",
       "241    3.140306e-05\n",
       "242    3.622828e-05\n",
       "243    9.298681e-06\n",
       "244    8.313216e-06\n",
       "245    4.983461e-06\n",
       "246    1.178975e-04\n",
       "247    2.966848e-05\n",
       "248    2.532859e-05\n",
       "249    1.704353e-06\n",
       "250    8.083611e-06\n",
       "251    5.511377e-05\n",
       "Name: close, Length: 252, dtype: float64"
      ]
     },
     "execution_count": 9,
     "metadata": {},
     "output_type": "execute_result"
    }
   ],
   "source": [
    "returns"
   ]
  },
  {
   "cell_type": "code",
   "execution_count": 8,
   "metadata": {
    "collapsed": true
   },
   "outputs": [],
   "source": [
    "windows = [x+2 for x in range(120)]\n",
    "results_dict = {}\n",
    "\n",
    "def vol_calc(array):\n",
    "    return np.sqrt(np.sum(array) * (1 / (array.size - 1))) * np.sqrt(252)\n",
    "\n",
    "# Calculates rolling volatility for each window length and gets the max, min, and average. Creates series and adds it to the dict\n",
    "# indexed by the window length. Creates dataframe from result dict\n",
    "for window in windows:\n",
    "    std = returns.rolling(window=window).apply(vol_calc)\n",
    "    std_max = std.max()\n",
    "    std_min = std.min()\n",
    "    std_avg = std.mean()\n",
    "    result = pd.Series({\"std_max\": std_max, \"std_min\": std_min, \"std_avg\": std_avg})\n",
    "    results_dict[window] = result\n",
    "    \n",
    "vol_cone = pd.DataFrame.from_dict(results_dict, orient=\"index\")"
   ]
  },
  {
   "cell_type": "code",
   "execution_count": 14,
   "metadata": {},
   "outputs": [
    {
     "data": {
      "text/plain": [
       "numpy.float64"
      ]
     },
     "execution_count": 14,
     "metadata": {},
     "output_type": "execute_result"
    }
   ],
   "source": [
    "type(vol_calc(returns))"
   ]
  },
  {
   "cell_type": "code",
   "execution_count": null,
   "metadata": {
    "collapsed": true
   },
   "outputs": [],
   "source": [
    "# Gets data for past year\n",
    "recent_data = pd.read_sql(\"SELECT * FROM underlying_data WHERE \"\n",
    "                          \"date > (current_date - INTERVAL '252' DAY) AND symbol='{0}' AND data_type='TRADES'\".format(symbol),\n",
    "                          engine)\n",
    "# Squared log Returns\n",
    "recent_returns = np.square(np.log(recent_data['close']).diff())\n",
    "\n",
    "# Creates 1d array of lookback periods, and creates placeholder frame for vol values corresponding to those lookback periods\n",
    "lookback = np.arange(2, 121)\n",
    "recent_vol = np.ones(lookback.size)\n",
    "\n",
    "# For each lookback, calculate vol and put that value in the corresponding place in the recent_vol array.\n",
    "for x in lookback:\n",
    "    # Finds the INDEX position in the lookback array of the lookback value so the volatility can be placed in the corresponding\n",
    "    # location in the recent_vol frame\n",
    "    index_pos = np.where(lookback == x)[0]\n",
    "    vol = np.sqrt(np.sum(recent_returns[-x:]) * (1 / (recent_returns[-x:].size - 1))) * np.sqrt(252)\n",
    "    recent_vol[index_pos] = vol"
   ]
  },
  {
   "cell_type": "code",
   "execution_count": 359,
   "metadata": {
    "collapsed": true
   },
   "outputs": [],
   "source": [
    "# Gets most recent date from horizontal skew table\n",
    "recent_date = pd.read_sql(\"SELECT DISTINCT date FROM horizontal_skew ORDER BY date DESC LIMIT 1\", engine).loc[0].date\n",
    "recent_date = recent_date.isoformat()\n",
    "\n",
    "# Gets info for that date\n",
    "implied_vol = pd.read_sql(\"SELECT * FROM horizontal_skew WHERE symbol='{0}' \"\n",
    "                          \"AND date='{1}'\".format(horizontal_skew_symbol, recent_date), engine)\n",
    "\n",
    "# Gets days to expiration and ATM volatility as arrays for plotting\n",
    "skew_dte = implied_vol['dte'].as_matrix()\n",
    "skew_vol = implied_vol['atm_vol'].as_matrix()"
   ]
  },
  {
   "cell_type": "code",
   "execution_count": null,
   "metadata": {
    "collapsed": true,
    "scrolled": false
   },
   "outputs": [],
   "source": [
    "# Plots calculated vol cone with current vol calculated using the lookback periods on the x axis\n",
    "vol_cone.plot()\n",
    "# Plots using lookback array for x values and corresponding recent_vol values for y\n",
    "plt.plot(lookback, recent_vol)\n",
    "# Plots actual ATM vol for options with x-axis days to expiration\n",
    "plt.plot(skew_dte, skew_vol)"
   ]
  },
  {
   "cell_type": "code",
   "execution_count": null,
   "metadata": {
    "collapsed": true
   },
   "outputs": [],
   "source": []
  }
 ],
 "metadata": {
  "kernelspec": {
   "display_name": "Python 3",
   "language": "python",
   "name": "python3"
  },
  "language_info": {
   "codemirror_mode": {
    "name": "ipython",
    "version": 3
   },
   "file_extension": ".py",
   "mimetype": "text/x-python",
   "name": "python",
   "nbconvert_exporter": "python",
   "pygments_lexer": "ipython3",
   "version": "3.6.2"
  }
 },
 "nbformat": 4,
 "nbformat_minor": 2
}
